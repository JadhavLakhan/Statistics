{
 "cells": [
  {
   "cell_type": "markdown",
   "id": "dc24b675",
   "metadata": {},
   "source": [
    "# One - Way ANOVA\n"
   ]
  },
  {
   "cell_type": "markdown",
   "id": "48eb86f4",
   "metadata": {},
   "source": [
    "One-Way ANOVA (Analysis of Variance) is a statistical technique used to determine whether there are any statistically significant differences between the means of three or more independent (unrelated) groups. This method is used when you have one independent variable with multiple levels (categories) and one dependent variable that is continuous."
   ]
  },
  {
   "cell_type": "markdown",
   "id": "1e773a44",
   "metadata": {},
   "source": [
    "#One-Way ANOVA: Assumptions"
   ]
  },
  {
   "cell_type": "markdown",
   "id": "97d630a4",
   "metadata": {},
   "source": [
    "1. Normality – Each sample was drawn from a normally distributed population.\n",
    "\n",
    "2. Equal Variances – The variances of the populations that the samples come from are equal. You can use Bartlett’s Test to verify this assumption.\n",
    "\n",
    "3. Independence – The observations in each group are independent of each other and the observations within groups were obtained by a random sample."
   ]
  },
  {
   "cell_type": "markdown",
   "id": "ae72885a",
   "metadata": {},
   "source": [
    "H0 (null hypothesis): μ1 = μ2 = μ3 = … = μk (all the population means are equal)\n",
    "    \n",
    "H1 (alternative hypothesis): at least one population mean is different from the rest"
   ]
  },
  {
   "cell_type": "code",
   "execution_count": 3,
   "id": "526942f3",
   "metadata": {},
   "outputs": [],
   "source": [
    "import pandas as pd"
   ]
  },
  {
   "cell_type": "code",
   "execution_count": 7,
   "id": "ba0d5a2b",
   "metadata": {},
   "outputs": [],
   "source": [
    "data = {'Sum of Squares (SS)': ['SSR', 'SSE','SST'], 'df': ['dfr', 'dfe','dft'],\n",
    "        'Mean Squares (MS)': ['MSR', 'MSE','---'],'F':['MSR/MSE','---','---'],'p':['Fdfr, dfe','---','---']}"
   ]
  },
  {
   "cell_type": "code",
   "execution_count": 10,
   "id": "737dffde",
   "metadata": {},
   "outputs": [],
   "source": [
    "ANOVA_Table = pd.DataFrame(data, index=['Treatment', 'Error','Total'])"
   ]
  },
  {
   "cell_type": "code",
   "execution_count": 11,
   "id": "aa0d1e93",
   "metadata": {},
   "outputs": [
    {
     "data": {
      "text/html": [
       "<div>\n",
       "<style scoped>\n",
       "    .dataframe tbody tr th:only-of-type {\n",
       "        vertical-align: middle;\n",
       "    }\n",
       "\n",
       "    .dataframe tbody tr th {\n",
       "        vertical-align: top;\n",
       "    }\n",
       "\n",
       "    .dataframe thead th {\n",
       "        text-align: right;\n",
       "    }\n",
       "</style>\n",
       "<table border=\"1\" class=\"dataframe\">\n",
       "  <thead>\n",
       "    <tr style=\"text-align: right;\">\n",
       "      <th></th>\n",
       "      <th>Sum of Squares (SS)</th>\n",
       "      <th>df</th>\n",
       "      <th>Mean Squares (MS)</th>\n",
       "      <th>F</th>\n",
       "      <th>p</th>\n",
       "    </tr>\n",
       "  </thead>\n",
       "  <tbody>\n",
       "    <tr>\n",
       "      <th>Treatment</th>\n",
       "      <td>SSR</td>\n",
       "      <td>dfr</td>\n",
       "      <td>MSR</td>\n",
       "      <td>MSR/MSE</td>\n",
       "      <td>Fdfr, dfe</td>\n",
       "    </tr>\n",
       "    <tr>\n",
       "      <th>Error</th>\n",
       "      <td>SSE</td>\n",
       "      <td>dfe</td>\n",
       "      <td>MSE</td>\n",
       "      <td>---</td>\n",
       "      <td>---</td>\n",
       "    </tr>\n",
       "    <tr>\n",
       "      <th>Total</th>\n",
       "      <td>SST</td>\n",
       "      <td>dft</td>\n",
       "      <td>---</td>\n",
       "      <td>---</td>\n",
       "      <td>---</td>\n",
       "    </tr>\n",
       "  </tbody>\n",
       "</table>\n",
       "</div>"
      ],
      "text/plain": [
       "          Sum of Squares (SS)   df Mean Squares (MS)        F          p\n",
       "Treatment                 SSR  dfr               MSR  MSR/MSE  Fdfr, dfe\n",
       "Error                     SSE  dfe               MSE      ---        ---\n",
       "Total                     SST  dft               ---      ---        ---"
      ]
     },
     "execution_count": 11,
     "metadata": {},
     "output_type": "execute_result"
    }
   ],
   "source": [
    "ANOVA_Table"
   ]
  },
  {
   "cell_type": "markdown",
   "id": "a7705adc",
   "metadata": {},
   "source": [
    "where:\n",
    "\n",
    "SSR: regression sum of squares\n",
    "\n",
    "SSE: error sum of squares\n",
    "\n",
    "SST: total sum of squares (SST = SSR + SSE)\n",
    "\n",
    "dfr: regression degrees of freedom (dfr = k-1)\n",
    "\n",
    "dfe: error degrees of freedom (dfe = n-k)\n",
    "\n",
    "dft: total degrees of freedom (dft = n-1)\n",
    "\n",
    "k: total number of groups\n",
    "\n",
    "n: total observations\n",
    "\n",
    "MSR: regression mean square (MSR = SSR/dfr)\n",
    "\n",
    "MSE: error mean square (MSE = SSE/dfe)\n",
    "\n",
    "F: The F test statistic (F = MSR/MSE)\n",
    "\n",
    "p: The p-value that corresponds to Fdfr, dfe"
   ]
  },
  {
   "cell_type": "code",
   "execution_count": null,
   "id": "4977bfa9",
   "metadata": {},
   "outputs": [],
   "source": []
  },
  {
   "cell_type": "code",
   "execution_count": null,
   "id": "790ba5f6",
   "metadata": {},
   "outputs": [],
   "source": []
  },
  {
   "cell_type": "code",
   "execution_count": null,
   "id": "6059e1f3",
   "metadata": {},
   "outputs": [],
   "source": []
  },
  {
   "cell_type": "code",
   "execution_count": null,
   "id": "99aa1796",
   "metadata": {},
   "outputs": [],
   "source": []
  }
 ],
 "metadata": {
  "kernelspec": {
   "display_name": "Python 3 (ipykernel)",
   "language": "python",
   "name": "python3"
  },
  "language_info": {
   "codemirror_mode": {
    "name": "ipython",
    "version": 3
   },
   "file_extension": ".py",
   "mimetype": "text/x-python",
   "name": "python",
   "nbconvert_exporter": "python",
   "pygments_lexer": "ipython3",
   "version": "3.9.13"
  }
 },
 "nbformat": 4,
 "nbformat_minor": 5
}
