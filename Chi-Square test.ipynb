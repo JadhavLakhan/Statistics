{
 "cells": [
  {
   "cell_type": "markdown",
   "id": "0a6ecc57",
   "metadata": {},
   "source": [
    "# Chi-Square test"
   ]
  },
  {
   "cell_type": "markdown",
   "id": "2dc48efd",
   "metadata": {},
   "source": [
    "The Chi-Square test is a statistical method used to examine the association between categorical variables. There are different types of Chi-Square tests, including the Chi-Square goodness-of-fit test and the Chi-Square test of independence"
   ]
  },
  {
   "cell_type": "markdown",
   "id": "4daa6a23",
   "metadata": {},
   "source": [
    "This test makes four assumptions:\n",
    "\n",
    "1: Both variables are categorical.\n",
    "\n",
    "2: All observations are independent.\n",
    " \n",
    "3: Cells in the contingency table are mutually exclusive.\n",
    "\n",
    "4: Expected value of cells should be 5 or greater in at least 80% of cells."
   ]
  },
  {
   "cell_type": "markdown",
   "id": "6d21abd0",
   "metadata": {},
   "source": [
    "# Chi-Square test of independence"
   ]
  },
  {
   "cell_type": "markdown",
   "id": "13bd52be",
   "metadata": {},
   "source": [
    "The Chi-Square test of independence is a statistical test used to determine whether there is a significant association between two categorical variables. Here's a guide to understanding and performing the Chi-Square test of independence:"
   ]
  },
  {
   "cell_type": "markdown",
   "id": "1aa61a8a",
   "metadata": {},
   "source": [
    "Null Hypothesis (H0): Assumes that there is no association between the two categorical variables.\n",
    "\n",
    "Alternative Hypothesis (H1): Assumes that there is an association between the two categorical variables."
   ]
  },
  {
   "cell_type": "markdown",
   "id": "8f4118b6",
   "metadata": {},
   "source": [
    "Calculate Expected Frequencies: \n",
    "\n",
    "Eij =(RowTotali X ColumnTotalj)/(GrandTotal)"
   ]
  },
  {
   "cell_type": "markdown",
   "id": "8f0111c7",
   "metadata": {},
   "source": [
    "Compute the Chi-Square Statistic: Use the formula:\n",
    "        \n",
    "        Chi-Square χ2 = sum[(Oij-Eij)^2/Eij]"
   ]
  },
  {
   "cell_type": "markdown",
   "id": "e4c67b39",
   "metadata": {},
   "source": [
    "Determine Degrees of Freedom (df): Calculate the degrees of freedom using the formula:\n",
    "\n",
    "df=(NumberofRows−1)×(NumberofColumns−1)"
   ]
  },
  {
   "cell_type": "markdown",
   "id": "f6d2aac7",
   "metadata": {},
   "source": [
    "Conclusion:\n",
    "\n",
    "If χ2 statistic is greater than the critical value or if the p-value is less than the significance level (commonly 0.05), reject the null hypothesis.\n",
    "\n",
    "If χ2 statistic is less than the critical value or if the p-value is greater than the significance level, do not reject the null hypothesis."
   ]
  },
  {
   "cell_type": "code",
   "execution_count": null,
   "id": "f7b2e1cd",
   "metadata": {},
   "outputs": [],
   "source": [
    "import pandas as pd\n",
    "from scipy.stats import chi2_contingency"
   ]
  },
  {
   "cell_type": "code",
   "execution_count": 10,
   "id": "4ec986ba",
   "metadata": {},
   "outputs": [],
   "source": [
    "data = {'Action': [30, 20], 'Comedy': [10, 30], 'Drama': [20, 40]}\n",
    "contingency_table = pd.DataFrame(data, index=['Male', 'Female'])"
   ]
  },
  {
   "cell_type": "code",
   "execution_count": 11,
   "id": "75b7fdb3",
   "metadata": {},
   "outputs": [
    {
     "data": {
      "text/html": [
       "<div>\n",
       "<style scoped>\n",
       "    .dataframe tbody tr th:only-of-type {\n",
       "        vertical-align: middle;\n",
       "    }\n",
       "\n",
       "    .dataframe tbody tr th {\n",
       "        vertical-align: top;\n",
       "    }\n",
       "\n",
       "    .dataframe thead th {\n",
       "        text-align: right;\n",
       "    }\n",
       "</style>\n",
       "<table border=\"1\" class=\"dataframe\">\n",
       "  <thead>\n",
       "    <tr style=\"text-align: right;\">\n",
       "      <th></th>\n",
       "      <th>Action</th>\n",
       "      <th>Comedy</th>\n",
       "      <th>Drama</th>\n",
       "    </tr>\n",
       "  </thead>\n",
       "  <tbody>\n",
       "    <tr>\n",
       "      <th>Male</th>\n",
       "      <td>30</td>\n",
       "      <td>10</td>\n",
       "      <td>20</td>\n",
       "    </tr>\n",
       "    <tr>\n",
       "      <th>Female</th>\n",
       "      <td>20</td>\n",
       "      <td>30</td>\n",
       "      <td>40</td>\n",
       "    </tr>\n",
       "  </tbody>\n",
       "</table>\n",
       "</div>"
      ],
      "text/plain": [
       "        Action  Comedy  Drama\n",
       "Male        30      10     20\n",
       "Female      20      30     40"
      ]
     },
     "execution_count": 11,
     "metadata": {},
     "output_type": "execute_result"
    }
   ],
   "source": [
    "contingency_table"
   ]
  },
  {
   "cell_type": "code",
   "execution_count": 12,
   "id": "c23412f8",
   "metadata": {},
   "outputs": [],
   "source": [
    "# Perform Chi-Square Test of Independence\n",
    "chi2, p, dof, expected = chi2_contingency(contingency_table)\n"
   ]
  },
  {
   "cell_type": "code",
   "execution_count": 13,
   "id": "3159dd8a",
   "metadata": {},
   "outputs": [
    {
     "name": "stdout",
     "output_type": "stream",
     "text": [
      "\n",
      "Chi-Square Test Statistic: 13.194444444444445\n",
      "p-value: 0.001364152090848616\n",
      "Degrees of Freedom: 2\n",
      "Expected Frequencies Table:\n",
      "[[20. 16. 24.]\n",
      " [30. 24. 36.]]\n"
     ]
    }
   ],
   "source": [
    "print(\"\\nChi-Square Test Statistic:\", chi2)\n",
    "print(\"p-value:\", p)\n",
    "print(\"Degrees of Freedom:\", dof)\n",
    "print(\"Expected Frequencies Table:\")\n",
    "print(expected)"
   ]
  },
  {
   "cell_type": "code",
   "execution_count": 14,
   "id": "816a20bc",
   "metadata": {},
   "outputs": [
    {
     "name": "stdout",
     "output_type": "stream",
     "text": [
      "\n",
      "Since the p-value is less than 0.05, we reject the null hypothesis.\n",
      "There is a significant association between Gender and Preference.\n"
     ]
    }
   ],
   "source": [
    "# Interpret the p-value\n",
    "alpha = 0.05\n",
    "if p < alpha:\n",
    "    print(\"\\nSince the p-value is less than 0.05, we reject the null hypothesis.\")\n",
    "    print(\"There is a significant association between Gender and Preference.\")\n",
    "else:\n",
    "    print(\"\\nSince the p-value is greater than 0.05, we fail to reject the null hypothesis.\")\n",
    "    print(\"There is no significant association between Gender and Preference.\")\n"
   ]
  },
  {
   "cell_type": "markdown",
   "id": "5e8b3100",
   "metadata": {},
   "source": [
    "# Chi-Square Test of Goodness of Fit\n"
   ]
  },
  {
   "cell_type": "markdown",
   "id": "97f01f41",
   "metadata": {},
   "source": [
    "The Chi-Square test of goodness of fit is a statistical test used to determine whether a sample data set fits a population with a specific distribution. It's commonly used to see if an observed frequency distribution matches an expected frequency distribution."
   ]
  },
  {
   "cell_type": "markdown",
   "id": "58aa6958",
   "metadata": {},
   "source": [
    "Null Hypothesis (H0): The observed frequencies fit the expected distribution.\n",
    "\n",
    "Alternative Hypothesis (H1): The observed frequencies do not fit the expected distribution."
   ]
  },
  {
   "cell_type": "markdown",
   "id": "81b2a587",
   "metadata": {},
   "source": [
    "Compute the Chi-Square Statistic: Use the formula:\n",
    "\n",
    "    Chi-Square χ2 = sum[(Oi-Ei)^2/Ei]"
   ]
  },
  {
   "cell_type": "markdown",
   "id": "27a8a362",
   "metadata": {},
   "source": [
    "Determine the Degrees of Freedom:\n",
    "\n",
    "df=number of categories−1"
   ]
  },
  {
   "cell_type": "markdown",
   "id": "98e4f9f3",
   "metadata": {},
   "source": [
    "Conclusion:\n",
    "\n",
    "If χ2 calculated > χ2 critical, or if the p-value < α, reject the null hypothesis.Otherwise, fail to reject the null hypothesis."
   ]
  },
  {
   "cell_type": "markdown",
   "id": "6a214a89",
   "metadata": {},
   "source": [
    "# Method I"
   ]
  },
  {
   "cell_type": "code",
   "execution_count": 22,
   "id": "7a2ef76a",
   "metadata": {},
   "outputs": [],
   "source": [
    "import pandas as pd\n",
    "import numpy as np"
   ]
  },
  {
   "cell_type": "code",
   "execution_count": 50,
   "id": "c9c4e2a4",
   "metadata": {},
   "outputs": [],
   "source": [
    "expected_value=np.array([50,50,50,50,50])\n",
    "observed=np.array([50,60,40,47,53])"
   ]
  },
  {
   "cell_type": "code",
   "execution_count": 51,
   "id": "abbb2c02",
   "metadata": {},
   "outputs": [],
   "source": [
    "from scipy.stats import chisquare"
   ]
  },
  {
   "cell_type": "code",
   "execution_count": 52,
   "id": "3e8b1666",
   "metadata": {},
   "outputs": [],
   "source": [
    "chi2_stat, p_val = chisquare(f_obs=observed, f_exp=expected_value)"
   ]
  },
  {
   "cell_type": "code",
   "execution_count": 53,
   "id": "8154b05f",
   "metadata": {},
   "outputs": [
    {
     "name": "stdout",
     "output_type": "stream",
     "text": [
      "Chi-Square Statistic: 4.359999999999999\n",
      "P-Value: 0.3594720674366307\n"
     ]
    }
   ],
   "source": [
    "print(f\"Chi-Square Statistic: {chi2_stat}\")\n",
    "print(f\"P-Value: {p_val}\")"
   ]
  },
  {
   "cell_type": "code",
   "execution_count": 54,
   "id": "e98576ca",
   "metadata": {},
   "outputs": [
    {
     "name": "stdout",
     "output_type": "stream",
     "text": [
      "Fail to reject the null hypothesis: The observed data fits the expected distribution.\n"
     ]
    }
   ],
   "source": [
    "if p_val < 0.05:\n",
    "    print(\"Reject the null hypothesis: The observed data does not fit the expected distribution.\")\n",
    "else:\n",
    "    print(\"Fail to reject the null hypothesis: The observed data fits the expected distribution.\")"
   ]
  },
  {
   "cell_type": "markdown",
   "id": "0a93476b",
   "metadata": {},
   "source": [
    "# Method II"
   ]
  },
  {
   "cell_type": "code",
   "execution_count": 60,
   "id": "a39ba30b",
   "metadata": {},
   "outputs": [],
   "source": [
    "data = {\n",
    "    'Category': ['Monday', 'Tuesday', 'Wednesday', 'Thursday', 'Friday'],\n",
    "    'Observed': [50,60,40,47,53]\n",
    "}"
   ]
  },
  {
   "cell_type": "code",
   "execution_count": 63,
   "id": "ef4d704a",
   "metadata": {},
   "outputs": [
    {
     "data": {
      "text/html": [
       "<div>\n",
       "<style scoped>\n",
       "    .dataframe tbody tr th:only-of-type {\n",
       "        vertical-align: middle;\n",
       "    }\n",
       "\n",
       "    .dataframe tbody tr th {\n",
       "        vertical-align: top;\n",
       "    }\n",
       "\n",
       "    .dataframe thead th {\n",
       "        text-align: right;\n",
       "    }\n",
       "</style>\n",
       "<table border=\"1\" class=\"dataframe\">\n",
       "  <thead>\n",
       "    <tr style=\"text-align: right;\">\n",
       "      <th></th>\n",
       "      <th>Category</th>\n",
       "      <th>Observed</th>\n",
       "    </tr>\n",
       "  </thead>\n",
       "  <tbody>\n",
       "    <tr>\n",
       "      <th>0</th>\n",
       "      <td>Monday</td>\n",
       "      <td>50</td>\n",
       "    </tr>\n",
       "    <tr>\n",
       "      <th>1</th>\n",
       "      <td>Tuesday</td>\n",
       "      <td>60</td>\n",
       "    </tr>\n",
       "    <tr>\n",
       "      <th>2</th>\n",
       "      <td>Wednesday</td>\n",
       "      <td>40</td>\n",
       "    </tr>\n",
       "    <tr>\n",
       "      <th>3</th>\n",
       "      <td>Thursday</td>\n",
       "      <td>47</td>\n",
       "    </tr>\n",
       "    <tr>\n",
       "      <th>4</th>\n",
       "      <td>Friday</td>\n",
       "      <td>53</td>\n",
       "    </tr>\n",
       "  </tbody>\n",
       "</table>\n",
       "</div>"
      ],
      "text/plain": [
       "    Category  Observed\n",
       "0     Monday        50\n",
       "1    Tuesday        60\n",
       "2  Wednesday        40\n",
       "3   Thursday        47\n",
       "4     Friday        53"
      ]
     },
     "execution_count": 63,
     "metadata": {},
     "output_type": "execute_result"
    }
   ],
   "source": [
    "df=pd.DataFrame(data)\n",
    "df"
   ]
  },
  {
   "cell_type": "markdown",
   "id": "fed89f4e",
   "metadata": {},
   "source": [
    "Calculate total observed and expected frequencies"
   ]
  },
  {
   "cell_type": "code",
   "execution_count": 64,
   "id": "96d2539d",
   "metadata": {},
   "outputs": [
    {
     "data": {
      "text/plain": [
       "250"
      ]
     },
     "execution_count": 64,
     "metadata": {},
     "output_type": "execute_result"
    }
   ],
   "source": [
    "total_observed = df['Observed'].sum()\n",
    "total_observed"
   ]
  },
  {
   "cell_type": "code",
   "execution_count": 68,
   "id": "1650a914",
   "metadata": {},
   "outputs": [
    {
     "data": {
      "text/plain": [
       "5"
      ]
     },
     "execution_count": 68,
     "metadata": {},
     "output_type": "execute_result"
    }
   ],
   "source": [
    "num_categories = df.shape[0]\n",
    "num_categories"
   ]
  },
  {
   "cell_type": "code",
   "execution_count": 69,
   "id": "232fb184",
   "metadata": {},
   "outputs": [
    {
     "data": {
      "text/plain": [
       "50.0"
      ]
     },
     "execution_count": 69,
     "metadata": {},
     "output_type": "execute_result"
    }
   ],
   "source": [
    "expected_frequency = total_observed / num_categories\n",
    "expected_frequency"
   ]
  },
  {
   "cell_type": "code",
   "execution_count": 70,
   "id": "b3b954e5",
   "metadata": {},
   "outputs": [],
   "source": [
    "#Add expected frequencies to the DataFrame\n",
    "df['Expected']=expected_frequency"
   ]
  },
  {
   "cell_type": "code",
   "execution_count": 71,
   "id": "e8dfdf8b",
   "metadata": {},
   "outputs": [
    {
     "data": {
      "text/html": [
       "<div>\n",
       "<style scoped>\n",
       "    .dataframe tbody tr th:only-of-type {\n",
       "        vertical-align: middle;\n",
       "    }\n",
       "\n",
       "    .dataframe tbody tr th {\n",
       "        vertical-align: top;\n",
       "    }\n",
       "\n",
       "    .dataframe thead th {\n",
       "        text-align: right;\n",
       "    }\n",
       "</style>\n",
       "<table border=\"1\" class=\"dataframe\">\n",
       "  <thead>\n",
       "    <tr style=\"text-align: right;\">\n",
       "      <th></th>\n",
       "      <th>Category</th>\n",
       "      <th>Observed</th>\n",
       "      <th>Expected</th>\n",
       "    </tr>\n",
       "  </thead>\n",
       "  <tbody>\n",
       "    <tr>\n",
       "      <th>0</th>\n",
       "      <td>Monday</td>\n",
       "      <td>50</td>\n",
       "      <td>50.0</td>\n",
       "    </tr>\n",
       "    <tr>\n",
       "      <th>1</th>\n",
       "      <td>Tuesday</td>\n",
       "      <td>60</td>\n",
       "      <td>50.0</td>\n",
       "    </tr>\n",
       "    <tr>\n",
       "      <th>2</th>\n",
       "      <td>Wednesday</td>\n",
       "      <td>40</td>\n",
       "      <td>50.0</td>\n",
       "    </tr>\n",
       "    <tr>\n",
       "      <th>3</th>\n",
       "      <td>Thursday</td>\n",
       "      <td>47</td>\n",
       "      <td>50.0</td>\n",
       "    </tr>\n",
       "    <tr>\n",
       "      <th>4</th>\n",
       "      <td>Friday</td>\n",
       "      <td>53</td>\n",
       "      <td>50.0</td>\n",
       "    </tr>\n",
       "  </tbody>\n",
       "</table>\n",
       "</div>"
      ],
      "text/plain": [
       "    Category  Observed  Expected\n",
       "0     Monday        50      50.0\n",
       "1    Tuesday        60      50.0\n",
       "2  Wednesday        40      50.0\n",
       "3   Thursday        47      50.0\n",
       "4     Friday        53      50.0"
      ]
     },
     "execution_count": 71,
     "metadata": {},
     "output_type": "execute_result"
    }
   ],
   "source": [
    "df"
   ]
  },
  {
   "cell_type": "code",
   "execution_count": 72,
   "id": "96687f8b",
   "metadata": {},
   "outputs": [],
   "source": [
    "from scipy.stats import chisquare"
   ]
  },
  {
   "cell_type": "code",
   "execution_count": 73,
   "id": "69c2c7ad",
   "metadata": {},
   "outputs": [],
   "source": [
    "chi2_stat,p_val=chisquare(f_obs=df['Observed'],f_exp=df['Expected'])"
   ]
  },
  {
   "cell_type": "code",
   "execution_count": 77,
   "id": "8621c2b6",
   "metadata": {},
   "outputs": [
    {
     "name": "stdout",
     "output_type": "stream",
     "text": [
      "Chi-Square Statistic: 4.36\n",
      "P-Value: 0.3595\n"
     ]
    }
   ],
   "source": [
    "print(f\"Chi-Square Statistic: {round((chi2_stat),4)}\")\n",
    "print(f\"P-Value: {round((p_val),4)}\")"
   ]
  },
  {
   "cell_type": "code",
   "execution_count": 78,
   "id": "e368b929",
   "metadata": {},
   "outputs": [
    {
     "name": "stdout",
     "output_type": "stream",
     "text": [
      "Fail to reject the null hypothesis: The observed data fits the expected distribution.\n"
     ]
    }
   ],
   "source": [
    "if p_val < 0.05:\n",
    "    print(\"Reject the null hypothesis: The observed data does not fit the expected distribution.\")\n",
    "else:\n",
    "    print(\"Fail to reject the null hypothesis: The observed data fits the expected distribution.\")"
   ]
  }
 ],
 "metadata": {
  "kernelspec": {
   "display_name": "Python 3 (ipykernel)",
   "language": "python",
   "name": "python3"
  },
  "language_info": {
   "codemirror_mode": {
    "name": "ipython",
    "version": 3
   },
   "file_extension": ".py",
   "mimetype": "text/x-python",
   "name": "python",
   "nbconvert_exporter": "python",
   "pygments_lexer": "ipython3",
   "version": "3.9.13"
  }
 },
 "nbformat": 4,
 "nbformat_minor": 5
}
