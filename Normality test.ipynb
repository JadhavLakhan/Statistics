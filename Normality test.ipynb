{
 "cells": [
  {
   "cell_type": "markdown",
   "id": "25fd30e3",
   "metadata": {},
   "source": [
    "# Shapiro-Wilk Test "
   ]
  },
  {
   "cell_type": "markdown",
   "id": "e99b4271",
   "metadata": {},
   "source": [
    "The Shapiro-Wilk test is a statistical test used to determine whether a sample comes from a normally distributed population. It is commonly used to assess the normality assumption in parametric testing."
   ]
  },
  {
   "cell_type": "markdown",
   "id": "387501d5",
   "metadata": {},
   "source": [
    " Test Statistic:\n",
    "\n",
    "The Shapiro-Wilk test produces a test statistic W, \n",
    "which measures how well the sample distribution matches a normal distribution."
   ]
  },
  {
   "cell_type": "markdown",
   "id": "5f121abc",
   "metadata": {},
   "source": [
    " Null Hypothesis (H0): \n",
    " \n",
    "The sample is drawn from a normally distributed population."
   ]
  },
  {
   "cell_type": "markdown",
   "id": "4b4bfd61",
   "metadata": {},
   "source": [
    "Alternative Hypothesis (H1): \n",
    "\n",
    "The sample is not drawn from a normally distributed population."
   ]
  },
  {
   "cell_type": "markdown",
   "id": "19f17777",
   "metadata": {},
   "source": [
    "Decision Rule:\n",
    "\n",
    "If the p-value is less than the chosen significance level (e.g., 0.05), reject the null hypothesis (conclude that the data does not follow a normal distribution).\n",
    "\n",
    "If the p-value is greater than the chosen significance level, fail to reject the null hypothesis (conclude that there is no evidence to suggest the data is not normally distributed)."
   ]
  },
  {
   "cell_type": "code",
   "execution_count": 2,
   "id": "ddbc878c",
   "metadata": {},
   "outputs": [],
   "source": [
    "#import library\n",
    "from scipy.stats import shapiro"
   ]
  },
  {
   "cell_type": "code",
   "execution_count": 6,
   "id": "0c9ce092",
   "metadata": {},
   "outputs": [],
   "source": [
    "sample_data=[12,15,14,10,13,14,11,13,12,15]"
   ]
  },
  {
   "cell_type": "code",
   "execution_count": 17,
   "id": "0fe697ca",
   "metadata": {},
   "outputs": [
    {
     "data": {
      "text/plain": [
       "[12, 15, 14, 10, 13, 14, 11, 13, 12, 15]"
      ]
     },
     "execution_count": 17,
     "metadata": {},
     "output_type": "execute_result"
    }
   ],
   "source": [
    "sample_data"
   ]
  },
  {
   "cell_type": "code",
   "execution_count": 7,
   "id": "2d56d4e3",
   "metadata": {},
   "outputs": [
    {
     "name": "stdout",
     "output_type": "stream",
     "text": [
      "Statistics=0.948, p=0.646\n"
     ]
    }
   ],
   "source": [
    "data = [sample_data]\n",
    "stat, p = shapiro(data)\n",
    "print('Statistics=%.3f, p=%.3f' % (stat, p))"
   ]
  },
  {
   "cell_type": "code",
   "execution_count": 8,
   "id": "6672a88d",
   "metadata": {},
   "outputs": [
    {
     "name": "stdout",
     "output_type": "stream",
     "text": [
      "Sample looks Gaussian (fail to reject H0)\n"
     ]
    }
   ],
   "source": [
    "if p > 0.05:\n",
    "    print('Sample looks Gaussian (fail to reject H0/accept H0)')\n",
    "else:\n",
    "    print('Sample does not look Gaussian (reject H0)')\n"
   ]
  },
  {
   "cell_type": "markdown",
   "id": "d2670446",
   "metadata": {},
   "source": [
    "# Kolmogorov-Smirnov Test"
   ]
  },
  {
   "cell_type": "markdown",
   "id": "29ec6ce7",
   "metadata": {},
   "source": [
    "The Kolmogorov-Smirnov (K-S) test is a non-parametric test used to determine if a sample comes from a specified distribution or to compare two samples to assess whether they come from the same distribution. It is widely used due to its versatility and minimal assumptions."
   ]
  },
  {
   "cell_type": "markdown",
   "id": "136cd9b3",
   "metadata": {},
   "source": [
    "The test statistic D measures the maximum absolute difference between the empirical distribution function (EDF) of the sample and the cumulative distribution function (CDF) of the specified distribution (one-sample) or between the EDFs of two samples (two-sample)."
   ]
  },
  {
   "cell_type": "markdown",
   "id": "2cf57f90",
   "metadata": {},
   "source": [
    "One-Sample K-S Test: To test if a sample comes from a specific distribution (e.g., normal, exponential)."
   ]
  },
  {
   "cell_type": "markdown",
   "id": "fe4e5615",
   "metadata": {},
   "source": [
    "Two-Sample K-S Test: To compare two samples to determine if they come from the same distribution."
   ]
  },
  {
   "cell_type": "markdown",
   "id": "052e9fe6",
   "metadata": {},
   "source": [
    "Null Hypothesis (H0): \n",
    "\n",
    "For the one-sample test, the sample follows the specified distribution. For the two-sample test, the two samples come from the same distribution.\n",
    "\n",
    "Alternative Hypothesis (H1): \n",
    "\n",
    "For the one-sample test, the sample does not follow the specified distribution. For the two-sample test, the two samples come from different distributions."
   ]
  },
  {
   "cell_type": "markdown",
   "id": "9d5212c1",
   "metadata": {},
   "source": [
    "Interpretation:\n",
    "\n",
    "Since the p-value is greater than the significance level (0.05), we fail to reject the null hypothesis. There is no significant evidence to suggest that the sample does not follow a normal distribution."
   ]
  },
  {
   "cell_type": "markdown",
   "id": "4694ee3d",
   "metadata": {},
   "source": [
    "#K-S test for one sample"
   ]
  },
  {
   "cell_type": "code",
   "execution_count": 19,
   "id": "37d18924",
   "metadata": {},
   "outputs": [],
   "source": [
    "data = [12, 15, 14, 10, 13, 14, 11, 13, 12, 15]"
   ]
  },
  {
   "cell_type": "code",
   "execution_count": 20,
   "id": "a4ada58e",
   "metadata": {},
   "outputs": [
    {
     "data": {
      "text/plain": [
       "[12, 15, 14, 10, 13, 14, 11, 13, 12, 15]"
      ]
     },
     "execution_count": 20,
     "metadata": {},
     "output_type": "execute_result"
    }
   ],
   "source": [
    "data"
   ]
  },
  {
   "cell_type": "code",
   "execution_count": 18,
   "id": "e2de12de",
   "metadata": {},
   "outputs": [],
   "source": [
    "#import library\n",
    "import numpy as np\n",
    "from scipy.stats import kstest"
   ]
  },
  {
   "cell_type": "code",
   "execution_count": 21,
   "id": "e219d049",
   "metadata": {},
   "outputs": [],
   "source": [
    "mean = np.mean(data)\n",
    "std = np.std(data)\n",
    "result = kstest(data, 'norm', args=(mean, std))"
   ]
  },
  {
   "cell_type": "code",
   "execution_count": 25,
   "id": "adc2af0a",
   "metadata": {},
   "outputs": [
    {
     "name": "stdout",
     "output_type": "stream",
     "text": [
      "Statistic: 0.1571\n",
      "p-value: 0.9347\n"
     ]
    }
   ],
   "source": [
    "# Print the result\n",
    "print(\"Statistic:\", round(result.statistic,4))\n",
    "print(\"p-value:\", round(result.pvalue,4))"
   ]
  },
  {
   "cell_type": "code",
   "execution_count": 35,
   "id": "ab8479eb",
   "metadata": {},
   "outputs": [],
   "source": [
    "p=result.pvalue"
   ]
  },
  {
   "cell_type": "code",
   "execution_count": 39,
   "id": "5a35596d",
   "metadata": {},
   "outputs": [
    {
     "name": "stdout",
     "output_type": "stream",
     "text": [
      "Sample looks Gaussian (fail to reject H0/accept H0)\n"
     ]
    }
   ],
   "source": [
    "if p > 0.05:\n",
    "    print('Sample looks Gaussian (fail to reject H0/accept H0)')\n",
    "else:\n",
    "    print('Sample does not look Gaussian (reject H0)')"
   ]
  },
  {
   "cell_type": "markdown",
   "id": "cb3436e0",
   "metadata": {},
   "source": [
    "#K-S test for two sample "
   ]
  },
  {
   "cell_type": "code",
   "execution_count": 40,
   "id": "a0b95bbe",
   "metadata": {},
   "outputs": [],
   "source": [
    "#import library\n",
    "from scipy.stats import ks_2samp"
   ]
  },
  {
   "cell_type": "code",
   "execution_count": 41,
   "id": "cfc6b9a6",
   "metadata": {},
   "outputs": [],
   "source": [
    "data1 = [12, 15, 14, 10, 13]\n",
    "data2 = [14, 13, 15, 12, 11]"
   ]
  },
  {
   "cell_type": "code",
   "execution_count": 42,
   "id": "333bbde6",
   "metadata": {},
   "outputs": [
    {
     "data": {
      "text/plain": [
       "[12, 15, 14, 10, 13]"
      ]
     },
     "execution_count": 42,
     "metadata": {},
     "output_type": "execute_result"
    }
   ],
   "source": [
    "data1"
   ]
  },
  {
   "cell_type": "code",
   "execution_count": 43,
   "id": "b9d55591",
   "metadata": {},
   "outputs": [
    {
     "data": {
      "text/plain": [
       "[14, 13, 15, 12, 11]"
      ]
     },
     "execution_count": 43,
     "metadata": {},
     "output_type": "execute_result"
    }
   ],
   "source": [
    "data2"
   ]
  },
  {
   "cell_type": "code",
   "execution_count": 44,
   "id": "276c34c3",
   "metadata": {},
   "outputs": [],
   "source": [
    "# Perform the two-sample K-S test\n",
    "result = ks_2samp(data1, data2)"
   ]
  },
  {
   "cell_type": "code",
   "execution_count": 45,
   "id": "e4323b9d",
   "metadata": {},
   "outputs": [
    {
     "name": "stdout",
     "output_type": "stream",
     "text": [
      "Statistic: 0.2\n",
      "p-value: 1.0\n"
     ]
    }
   ],
   "source": [
    "print(\"Statistic:\", result.statistic)\n",
    "print(\"p-value:\", result.pvalue)"
   ]
  },
  {
   "cell_type": "code",
   "execution_count": 46,
   "id": "9a364fa2",
   "metadata": {},
   "outputs": [],
   "source": [
    "p=result.pvalue"
   ]
  },
  {
   "cell_type": "code",
   "execution_count": 47,
   "id": "7bd3d599",
   "metadata": {},
   "outputs": [
    {
     "name": "stdout",
     "output_type": "stream",
     "text": [
      "Sample looks Gaussian (fail to reject H0/accept H0)\n"
     ]
    }
   ],
   "source": [
    "if p > 0.05:\n",
    "    print('Sample looks Gaussian (fail to reject H0/accept H0)')\n",
    "else:\n",
    "    print('Sample does not look Gaussian (reject H0)')"
   ]
  },
  {
   "cell_type": "markdown",
   "id": "7482fd5d",
   "metadata": {},
   "source": [
    "# Anderson-Darling Test"
   ]
  },
  {
   "cell_type": "markdown",
   "id": "878250ff",
   "metadata": {},
   "source": [
    "The Anderson-Darling test is a statistical test used to determine if a sample of data comes from a specific distribution. It is a more powerful alternative to the Kolmogorov-Smirnov test, particularly for detecting deviations in the tails of the distribution."
   ]
  },
  {
   "cell_type": "markdown",
   "id": "2cee827f",
   "metadata": {},
   "source": [
    "The test statistic A*A\n",
    "  measures the deviation of the empirical cumulative distribution function (EDF) from the specified cumulative distribution function (CDF)."
   ]
  },
  {
   "cell_type": "markdown",
   "id": "d240ec8b",
   "metadata": {},
   "source": [
    "Null Hypothesis (H0): The sample comes from the specified distribution.\n",
    "\n",
    "Alternative Hypothesis (H1): The sample does not come from the specified distribution."
   ]
  },
  {
   "cell_type": "markdown",
   "id": "239fa572",
   "metadata": {},
   "source": [
    "Interpreting the Results :\n",
    "\n",
    "Compare the test statistic to the critical values at various significance levels.\n",
    "\n",
    "If the test statistic is greater than a critical value, the null hypothesis is rejected at that significance level, indicating that the sample does not come from the specified distribution.\n",
    "\n",
    "If the test statistic is less than all the critical values, there is no evidence to reject the null hypothesis, suggesting that the sample comes from the specified distribution."
   ]
  },
  {
   "cell_type": "code",
   "execution_count": 48,
   "id": "3249f9c3",
   "metadata": {},
   "outputs": [],
   "source": [
    "#import library\n",
    "import numpy as np\n",
    "from scipy.stats import anderson"
   ]
  },
  {
   "cell_type": "code",
   "execution_count": 50,
   "id": "37f769af",
   "metadata": {},
   "outputs": [],
   "source": [
    "data=np.random.sample(20)"
   ]
  },
  {
   "cell_type": "code",
   "execution_count": 59,
   "id": "611cb489",
   "metadata": {},
   "outputs": [
    {
     "data": {
      "text/plain": [
       "array([0.88, 0.32, 0.91, 0.2 , 0.3 , 0.95, 0.1 , 0.81, 0.98, 0.19, 0.  ,\n",
       "       0.65, 0.15, 0.56, 0.63, 0.22, 0.66, 0.34, 0.05, 0.29])"
      ]
     },
     "execution_count": 59,
     "metadata": {},
     "output_type": "execute_result"
    }
   ],
   "source": [
    "np.round(data,2)"
   ]
  },
  {
   "cell_type": "code",
   "execution_count": 60,
   "id": "a9434424",
   "metadata": {},
   "outputs": [],
   "source": [
    "data1 = [12, 15, 14, 10, 13, 14, 11, 13, 12, 15]"
   ]
  },
  {
   "cell_type": "code",
   "execution_count": 61,
   "id": "5a2fa9d6",
   "metadata": {},
   "outputs": [],
   "source": [
    "# Perform the Anderson-Darling test for normality\n",
    "result = anderson(data, dist='norm')"
   ]
  },
  {
   "cell_type": "code",
   "execution_count": 63,
   "id": "e06b4df5",
   "metadata": {},
   "outputs": [
    {
     "name": "stdout",
     "output_type": "stream",
     "text": [
      "Statistic: 0.666216528861181\n",
      "Critical Values: [0.506 0.577 0.692 0.807 0.96 ]\n",
      "Significance Levels: [15.  10.   5.   2.5  1. ]\n"
     ]
    }
   ],
   "source": [
    "print(\"Statistic:\", result.statistic)\n",
    "print(\"Critical Values:\", result.critical_values)\n",
    "print(\"Significance Levels:\", result.significance_level)"
   ]
  },
  {
   "cell_type": "code",
   "execution_count": 68,
   "id": "4364ca6d",
   "metadata": {},
   "outputs": [
    {
     "name": "stdout",
     "output_type": "stream",
     "text": [
      "At the 15.0% significance level, the null hypothesis is rejected.\n",
      "At the 10.0% significance level, the null hypothesis is rejected.\n",
      "At the 5.0% significance level, the null hypothesis is not rejected.\n",
      "At the 2.5% significance level, the null hypothesis is not rejected.\n",
      "At the 1.0% significance level, the null hypothesis is not rejected.\n"
     ]
    }
   ],
   "source": [
    "for cv, sl in zip(result.critical_values, result.significance_level):\n",
    "    if result.statistic > cv:\n",
    "        print(f\"At the {sl}% significance level, the null hypothesis is rejected.\")\n",
    "    else:\n",
    "        print(f\"At the {sl}% significance level, the null hypothesis is not rejected.\")"
   ]
  }
 ],
 "metadata": {
  "kernelspec": {
   "display_name": "Python 3 (ipykernel)",
   "language": "python",
   "name": "python3"
  },
  "language_info": {
   "codemirror_mode": {
    "name": "ipython",
    "version": 3
   },
   "file_extension": ".py",
   "mimetype": "text/x-python",
   "name": "python",
   "nbconvert_exporter": "python",
   "pygments_lexer": "ipython3",
   "version": "3.9.13"
  }
 },
 "nbformat": 4,
 "nbformat_minor": 5
}
