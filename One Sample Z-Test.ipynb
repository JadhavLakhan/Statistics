{
 "cells": [
  {
   "cell_type": "code",
   "execution_count": 1,
   "id": "5f8f1884",
   "metadata": {},
   "outputs": [],
   "source": [
    "import pandas as pd"
   ]
  },
  {
   "cell_type": "code",
   "execution_count": 2,
   "id": "deb44abc",
   "metadata": {},
   "outputs": [],
   "source": [
    "df=pd.read_csv(r\"C:\\Users\\Admin\\MSc app spu\\csv file\\Z_test .csv\")"
   ]
  },
  {
   "cell_type": "code",
   "execution_count": 3,
   "id": "af3a9b5f",
   "metadata": {},
   "outputs": [
    {
     "data": {
      "text/html": [
       "<div>\n",
       "<style scoped>\n",
       "    .dataframe tbody tr th:only-of-type {\n",
       "        vertical-align: middle;\n",
       "    }\n",
       "\n",
       "    .dataframe tbody tr th {\n",
       "        vertical-align: top;\n",
       "    }\n",
       "\n",
       "    .dataframe thead th {\n",
       "        text-align: right;\n",
       "    }\n",
       "</style>\n",
       "<table border=\"1\" class=\"dataframe\">\n",
       "  <thead>\n",
       "    <tr style=\"text-align: right;\">\n",
       "      <th></th>\n",
       "      <th>lot number</th>\n",
       "      <th>Number of Detective</th>\n",
       "    </tr>\n",
       "  </thead>\n",
       "  <tbody>\n",
       "    <tr>\n",
       "      <th>0</th>\n",
       "      <td>1</td>\n",
       "      <td>22</td>\n",
       "    </tr>\n",
       "    <tr>\n",
       "      <th>1</th>\n",
       "      <td>2</td>\n",
       "      <td>40</td>\n",
       "    </tr>\n",
       "    <tr>\n",
       "      <th>2</th>\n",
       "      <td>3</td>\n",
       "      <td>36</td>\n",
       "    </tr>\n",
       "    <tr>\n",
       "      <th>3</th>\n",
       "      <td>4</td>\n",
       "      <td>32</td>\n",
       "    </tr>\n",
       "    <tr>\n",
       "      <th>4</th>\n",
       "      <td>5</td>\n",
       "      <td>42</td>\n",
       "    </tr>\n",
       "  </tbody>\n",
       "</table>\n",
       "</div>"
      ],
      "text/plain": [
       "   lot number  Number of Detective\n",
       "0           1                   22\n",
       "1           2                   40\n",
       "2           3                   36\n",
       "3           4                   32\n",
       "4           5                   42"
      ]
     },
     "execution_count": 3,
     "metadata": {},
     "output_type": "execute_result"
    }
   ],
   "source": [
    "df.head()"
   ]
  },
  {
   "cell_type": "code",
   "execution_count": 4,
   "id": "588945ff",
   "metadata": {},
   "outputs": [],
   "source": [
    "x=df[\"Number of Detective\"]"
   ]
  },
  {
   "cell_type": "code",
   "execution_count": 5,
   "id": "e140b4aa",
   "metadata": {},
   "outputs": [],
   "source": [
    "import numpy as np"
   ]
  },
  {
   "cell_type": "code",
   "execution_count": 6,
   "id": "938949fd",
   "metadata": {},
   "outputs": [],
   "source": [
    "y=30"
   ]
  },
  {
   "cell_type": "markdown",
   "id": "d2a86d44",
   "metadata": {},
   "source": [
    "Null Hypothesis (H0): The null hypothesis typically states that there is no significant difference between the mean of the sample and the population mean.\n",
    "\n",
    "Ho:\t ⴎ=30 Average number of defectives is 30\n",
    "\n",
    "Alternative Hypothesis (H1): The alternative hypothesis states that there is a significant difference between the mean of the sample and the population mean.\n",
    "\n",
    "H1:\t ⴎ≠30 Average number of defectives is not 30"
   ]
  },
  {
   "cell_type": "markdown",
   "id": "fee91d09",
   "metadata": {},
   "source": [
    "# Method I"
   ]
  },
  {
   "cell_type": "code",
   "execution_count": 7,
   "id": "a2739d8b",
   "metadata": {},
   "outputs": [],
   "source": [
    "from scipy import stats"
   ]
  },
  {
   "cell_type": "code",
   "execution_count": 8,
   "id": "836db266",
   "metadata": {},
   "outputs": [],
   "source": [
    "z_score, p_value = stats.ttest_1samp(x, y)"
   ]
  },
  {
   "cell_type": "markdown",
   "id": "0ff261c9",
   "metadata": {},
   "source": [
    "The test statistic, represented by the Z-score, measures how many standard deviations the sample mean is from the population mean under the null hypothesis.\n",
    "\n",
    "A positive Z-score indicates that the sample mean is higher than the population mean, while a negative Z-score indicates that the sample mean is lower than the population mean."
   ]
  },
  {
   "cell_type": "code",
   "execution_count": 9,
   "id": "41cd6564",
   "metadata": {},
   "outputs": [
    {
     "name": "stdout",
     "output_type": "stream",
     "text": [
      "4.046975666864427\n"
     ]
    }
   ],
   "source": [
    "print(z_score)"
   ]
  },
  {
   "cell_type": "markdown",
   "id": "8089cecf",
   "metadata": {},
   "source": [
    "The p-value is the probability of observing the given sample data if the null hypothesis is true. It represents the evidence against the null hypothesis. A smaller p-value indicates stronger evidence against the null hypothesis."
   ]
  },
  {
   "cell_type": "code",
   "execution_count": 23,
   "id": "c58b939d",
   "metadata": {},
   "outputs": [
    {
     "name": "stdout",
     "output_type": "stream",
     "text": [
      "0.0003521011091006282\n"
     ]
    }
   ],
   "source": [
    "print(p_value)"
   ]
  },
  {
   "cell_type": "code",
   "execution_count": 24,
   "id": "09163b18",
   "metadata": {},
   "outputs": [
    {
     "name": "stdout",
     "output_type": "stream",
     "text": [
      "Reject null hypothesis\n"
     ]
    }
   ],
   "source": [
    "if p_value < alpha:\n",
    "    print(\"Reject null hypothesis\")\n",
    "else:\n",
    "    print(\"Fail to reject null hypothesis\")"
   ]
  },
  {
   "cell_type": "markdown",
   "id": "1dcdba74",
   "metadata": {},
   "source": [
    "# Method II"
   ]
  },
  {
   "cell_type": "code",
   "execution_count": 25,
   "id": "a2af6f8a",
   "metadata": {},
   "outputs": [],
   "source": [
    "from statsmodels.stats.weightstats import ztest as ztest"
   ]
  },
  {
   "cell_type": "code",
   "execution_count": 26,
   "id": "96ff90df",
   "metadata": {},
   "outputs": [
    {
     "data": {
      "text/plain": [
       "(4.0469756668644274, 5.1883632380333345e-05)"
      ]
     },
     "execution_count": 26,
     "metadata": {},
     "output_type": "execute_result"
    }
   ],
   "source": [
    "#perform one sample z-test\n",
    "ztest(x, value=y)"
   ]
  },
  {
   "cell_type": "code",
   "execution_count": null,
   "id": "3e601317",
   "metadata": {},
   "outputs": [],
   "source": []
  }
 ],
 "metadata": {
  "kernelspec": {
   "display_name": "Python 3 (ipykernel)",
   "language": "python",
   "name": "python3"
  },
  "language_info": {
   "codemirror_mode": {
    "name": "ipython",
    "version": 3
   },
   "file_extension": ".py",
   "mimetype": "text/x-python",
   "name": "python",
   "nbconvert_exporter": "python",
   "pygments_lexer": "ipython3",
   "version": "3.9.13"
  }
 },
 "nbformat": 4,
 "nbformat_minor": 5
}
