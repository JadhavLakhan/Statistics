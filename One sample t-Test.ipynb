{
 "cells": [
  {
   "cell_type": "code",
   "execution_count": 1,
   "id": "af106035",
   "metadata": {},
   "outputs": [],
   "source": [
    "import pandas as pd"
   ]
  },
  {
   "cell_type": "code",
   "execution_count": 4,
   "id": "4e75e304",
   "metadata": {},
   "outputs": [],
   "source": [
    "df=pd.read_csv(r\"C:\\Users\\Admin\\MSc app spu\\csv file\\One_sample_t_test.csv\")"
   ]
  },
  {
   "cell_type": "code",
   "execution_count": 6,
   "id": "fe2bce4c",
   "metadata": {},
   "outputs": [
    {
     "data": {
      "text/html": [
       "<div>\n",
       "<style scoped>\n",
       "    .dataframe tbody tr th:only-of-type {\n",
       "        vertical-align: middle;\n",
       "    }\n",
       "\n",
       "    .dataframe tbody tr th {\n",
       "        vertical-align: top;\n",
       "    }\n",
       "\n",
       "    .dataframe thead th {\n",
       "        text-align: right;\n",
       "    }\n",
       "</style>\n",
       "<table border=\"1\" class=\"dataframe\">\n",
       "  <thead>\n",
       "    <tr style=\"text-align: right;\">\n",
       "      <th></th>\n",
       "      <th>number of student</th>\n",
       "      <th>Height</th>\n",
       "    </tr>\n",
       "  </thead>\n",
       "  <tbody>\n",
       "    <tr>\n",
       "      <th>0</th>\n",
       "      <td>1</td>\n",
       "      <td>5.5</td>\n",
       "    </tr>\n",
       "    <tr>\n",
       "      <th>1</th>\n",
       "      <td>2</td>\n",
       "      <td>6.1</td>\n",
       "    </tr>\n",
       "    <tr>\n",
       "      <th>2</th>\n",
       "      <td>3</td>\n",
       "      <td>6.0</td>\n",
       "    </tr>\n",
       "    <tr>\n",
       "      <th>3</th>\n",
       "      <td>4</td>\n",
       "      <td>5.5</td>\n",
       "    </tr>\n",
       "    <tr>\n",
       "      <th>4</th>\n",
       "      <td>5</td>\n",
       "      <td>5.1</td>\n",
       "    </tr>\n",
       "  </tbody>\n",
       "</table>\n",
       "</div>"
      ],
      "text/plain": [
       "   number of student  Height\n",
       "0                  1     5.5\n",
       "1                  2     6.1\n",
       "2                  3     6.0\n",
       "3                  4     5.5\n",
       "4                  5     5.1"
      ]
     },
     "execution_count": 6,
     "metadata": {},
     "output_type": "execute_result"
    }
   ],
   "source": [
    "df.head()"
   ]
  },
  {
   "cell_type": "code",
   "execution_count": 15,
   "id": "3819dcc9",
   "metadata": {},
   "outputs": [],
   "source": [
    "data=df[\"Height\"]"
   ]
  },
  {
   "cell_type": "code",
   "execution_count": 8,
   "id": "48f1cd02",
   "metadata": {},
   "outputs": [],
   "source": [
    "mu=5.5"
   ]
  },
  {
   "cell_type": "markdown",
   "id": "91b5ef0c",
   "metadata": {},
   "source": [
    "Null Hypothesis (H0): The null hypothesis of the one-sample t-test states that there is no significant difference between the mean of the sample data and a specified population mean.\n",
    "\n",
    "Ho: ⴎ=5.5 Average height of student is  5.5\n",
    "\n",
    "Alternative Hypothesis (H1): The alternative hypothesis suggests that there is a significant difference between the mean of the sample data and the specified population mean.\n",
    "\n",
    "H1: ⴎ≠5.5 Average height of student is not 5.5"
   ]
  },
  {
   "cell_type": "code",
   "execution_count": 9,
   "id": "83c33c40",
   "metadata": {},
   "outputs": [],
   "source": [
    "from scipy import stats"
   ]
  },
  {
   "cell_type": "code",
   "execution_count": 16,
   "id": "c2fbf896",
   "metadata": {},
   "outputs": [],
   "source": [
    "t_statistic ,p_value=stats.ttest_1samp(data,mu)"
   ]
  },
  {
   "cell_type": "markdown",
   "id": "2b23c106",
   "metadata": {},
   "source": [
    "The t-statistic is a measure of how many standard errors the sample mean is away from the specified population mean under the null hypothesis. \n",
    "\n",
    "A larger absolute value of the t-statistic indicates a greater difference between the sample mean and the population mean."
   ]
  },
  {
   "cell_type": "code",
   "execution_count": 17,
   "id": "35957033",
   "metadata": {},
   "outputs": [
    {
     "name": "stdout",
     "output_type": "stream",
     "text": [
      "T-statistic: 0.9092539601027376\n"
     ]
    }
   ],
   "source": [
    "print(\"T-statistic:\", t_statistic)"
   ]
  },
  {
   "cell_type": "markdown",
   "id": "0033bf32",
   "metadata": {},
   "source": [
    "The p-value is the probability of observing the given sample data if the null hypothesis is true. It represents the evidence against the null hypothesis. A smaller p-value indicates stronger evidence against the null hypothesis."
   ]
  },
  {
   "cell_type": "code",
   "execution_count": 18,
   "id": "dd1301dc",
   "metadata": {},
   "outputs": [
    {
     "name": "stdout",
     "output_type": "stream",
     "text": [
      "P-value: 0.3722572178984286\n"
     ]
    }
   ],
   "source": [
    "print(\"P-value:\", p_value)"
   ]
  },
  {
   "cell_type": "code",
   "execution_count": 19,
   "id": "5d62d4c5",
   "metadata": {},
   "outputs": [],
   "source": [
    "alpha=0.05"
   ]
  },
  {
   "cell_type": "code",
   "execution_count": 21,
   "id": "d85bff3c",
   "metadata": {},
   "outputs": [
    {
     "name": "stdout",
     "output_type": "stream",
     "text": [
      "Fail to reject null hypothesis\n"
     ]
    }
   ],
   "source": [
    "if alpha<p_value :\n",
    "    print(\"Fail to reject null hypothesis\")\n",
    "else:\n",
    "    print(\"Reject null hypothesis\")"
   ]
  }
 ],
 "metadata": {
  "kernelspec": {
   "display_name": "Python 3 (ipykernel)",
   "language": "python",
   "name": "python3"
  },
  "language_info": {
   "codemirror_mode": {
    "name": "ipython",
    "version": 3
   },
   "file_extension": ".py",
   "mimetype": "text/x-python",
   "name": "python",
   "nbconvert_exporter": "python",
   "pygments_lexer": "ipython3",
   "version": "3.9.13"
  }
 },
 "nbformat": 4,
 "nbformat_minor": 5
}
