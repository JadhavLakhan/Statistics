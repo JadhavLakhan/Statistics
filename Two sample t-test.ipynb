{
 "cells": [
  {
   "cell_type": "code",
   "execution_count": 1,
   "id": "204dc7b7",
   "metadata": {},
   "outputs": [],
   "source": [
    "import numpy as np"
   ]
  },
  {
   "cell_type": "code",
   "execution_count": 13,
   "id": "bce48ae7",
   "metadata": {},
   "outputs": [],
   "source": [
    "x=[1000,1500,1200,1800,1600,1100,1000,1250]"
   ]
  },
  {
   "cell_type": "code",
   "execution_count": 17,
   "id": "61e94dd6",
   "metadata": {},
   "outputs": [
    {
     "data": {
      "text/plain": [
       "[1000, 1500, 1200, 1800, 1600, 1100, 1000, 1250]"
      ]
     },
     "execution_count": 17,
     "metadata": {},
     "output_type": "execute_result"
    }
   ],
   "source": [
    "y=[1500,1800,2000,1200,2000,1700,1800,1900]"
   ]
  },
  {
   "cell_type": "code",
   "execution_count": 27,
   "id": "2daebdf8",
   "metadata": {},
   "outputs": [],
   "source": [
    "mean1=np.mean(x)"
   ]
  },
  {
   "cell_type": "code",
   "execution_count": 28,
   "id": "7d2c4983",
   "metadata": {},
   "outputs": [],
   "source": [
    "mean2=np.mean(y)"
   ]
  },
  {
   "cell_type": "code",
   "execution_count": null,
   "id": "4574a4d7",
   "metadata": {},
   "outputs": [],
   "source": [
    "print(mean1)\n",
    "print(mean)"
   ]
  },
  {
   "cell_type": "markdown",
   "id": "0b6bd496",
   "metadata": {},
   "source": [
    "Null Hypothesis (H0): The null hypothesis states that there is no difference between the means of the two groups. \n",
    "\n",
    "Mathematically, it can be written as:\n",
    "\n",
    "H0: μ1 = μ2\n",
    "\n",
    "where μ1 is the mean of the first group and μ2 is the mean of the second group.\n",
    "\n",
    "Alternative Hypothesis (Ha): The alternative hypothesis states that there is a significant difference between the means of the two groups.\n",
    "\n",
    "It can be written as:\n",
    "\n",
    "Ha: μ1 ≠ μ2 (for a two-tailed test)\n",
    "\n",
    "Ha: μ1 > μ2 or μ1 < μ2 (for a one-tailed test)"
   ]
  },
  {
   "cell_type": "code",
   "execution_count": 18,
   "id": "1b07b62b",
   "metadata": {},
   "outputs": [],
   "source": [
    "from scipy import stats"
   ]
  },
  {
   "cell_type": "code",
   "execution_count": 19,
   "id": "ff95cb6b",
   "metadata": {},
   "outputs": [],
   "source": [
    "t_statistic,p_value=stats.ttest_ind(x,y)"
   ]
  },
  {
   "cell_type": "markdown",
   "id": "9f9a0ed2",
   "metadata": {},
   "source": [
    "The t-statistic measures the difference between the means of the two groups relative to the variability within the groups. It is calculated as the difference between the sample means divided by the standard error of the difference."
   ]
  },
  {
   "cell_type": "code",
   "execution_count": 20,
   "id": "b310a72a",
   "metadata": {},
   "outputs": [
    {
     "data": {
      "text/plain": [
       "-3.034616530221443"
      ]
     },
     "execution_count": 20,
     "metadata": {},
     "output_type": "execute_result"
    }
   ],
   "source": [
    "t_statistic"
   ]
  },
  {
   "cell_type": "markdown",
   "id": "9f5e247a",
   "metadata": {},
   "source": [
    "The p-value is the probability of observing the given sample data if the null hypothesis is true. It represents the evidence against the null hypothesis. A smaller p-value indicates stronger evidence against the null hypothesis."
   ]
  },
  {
   "cell_type": "code",
   "execution_count": 21,
   "id": "9bc83a18",
   "metadata": {},
   "outputs": [
    {
     "data": {
      "text/plain": [
       "0.008917875745317298"
      ]
     },
     "execution_count": 21,
     "metadata": {},
     "output_type": "execute_result"
    }
   ],
   "source": [
    "p_value"
   ]
  },
  {
   "cell_type": "code",
   "execution_count": 26,
   "id": "427b2b20",
   "metadata": {},
   "outputs": [],
   "source": [
    "alpha=0.05 #Level of significance"
   ]
  },
  {
   "cell_type": "code",
   "execution_count": 25,
   "id": "a538ff7a",
   "metadata": {},
   "outputs": [
    {
     "name": "stdout",
     "output_type": "stream",
     "text": [
      "Fail to reject null hypothesis\n"
     ]
    }
   ],
   "source": [
    "if alpha>p_value:\n",
    "    print(\"Fail to reject null hypothesis\")\n",
    "else:\n",
    "    print(\"Reject null hypothesis\")"
   ]
  }
 ],
 "metadata": {
  "kernelspec": {
   "display_name": "Python 3 (ipykernel)",
   "language": "python",
   "name": "python3"
  },
  "language_info": {
   "codemirror_mode": {
    "name": "ipython",
    "version": 3
   },
   "file_extension": ".py",
   "mimetype": "text/x-python",
   "name": "python",
   "nbconvert_exporter": "python",
   "pygments_lexer": "ipython3",
   "version": "3.9.13"
  }
 },
 "nbformat": 4,
 "nbformat_minor": 5
}
