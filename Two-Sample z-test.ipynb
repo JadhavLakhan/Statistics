{
 "cells": [
  {
   "cell_type": "code",
   "execution_count": 6,
   "id": "d7b71473",
   "metadata": {},
   "outputs": [],
   "source": [
    "import numpy as np"
   ]
  },
  {
   "cell_type": "code",
   "execution_count": 3,
   "id": "1f1aa9d7",
   "metadata": {},
   "outputs": [],
   "source": [
    "cityA = [82, 84, 85, 89, 91, 91, 92, 94, 99, 99,\n",
    "         105, 109, 109, 109, 110, 112, 112, 113, 114, 114]"
   ]
  },
  {
   "cell_type": "code",
   "execution_count": 4,
   "id": "2666be62",
   "metadata": {},
   "outputs": [],
   "source": [
    "cityB = [90, 91, 91, 91, 95, 95, 99, 99, 108, 109,\n",
    "         109, 114, 115, 116, 117, 117, 128, 129, 130, 133]"
   ]
  },
  {
   "cell_type": "code",
   "execution_count": 4,
   "id": "2c5f5a7e",
   "metadata": {},
   "outputs": [
    {
     "name": "stdout",
     "output_type": "stream",
     "text": [
      "[82, 84, 85, 89, 91, 91, 92, 94, 99, 99, 105, 109, 109, 109, 110, 112, 112, 113, 114, 114]\n"
     ]
    }
   ],
   "source": [
    "print(cityA)"
   ]
  },
  {
   "cell_type": "code",
   "execution_count": 5,
   "id": "ea3380d1",
   "metadata": {},
   "outputs": [
    {
     "name": "stdout",
     "output_type": "stream",
     "text": [
      "[90, 91, 91, 91, 95, 95, 99, 99, 108, 109, 109, 114, 115, 116, 117, 117, 128, 129, 130, 133]\n"
     ]
    }
   ],
   "source": [
    "print(cityB)"
   ]
  },
  {
   "cell_type": "markdown",
   "id": "ff1e8bbe",
   "metadata": {},
   "source": [
    "Null Hypothesis (H0): The null hypothesis assumes that there is no significant difference between the means of the two populations. \n",
    "\n",
    "Mathematically, it can be expressed as:H0: μ1 - μ2 = 0\n",
    "\n",
    "Where:\n",
    "μ1 is the mean of the first population.\n",
    "\n",
    "μ2 is the mean of the second population."
   ]
  },
  {
   "cell_type": "markdown",
   "id": "50bd1d93",
   "metadata": {},
   "source": [
    "Alternative Hypothesis (H1):The alternative hypothesis suggests that there is a significant difference between the means of the two populations.\n",
    "\n",
    "It can be either one-tailed or two-tailed, depending on the research question.\n",
    "\n",
    "For a two-tailed test, the alternative hypothesis can be expressed as:H1: μ1 - μ2 ≠ 0\n",
    "\n",
    "This indicates that you are testing whether the means are different from each other in either direction."
   ]
  },
  {
   "cell_type": "markdown",
   "id": "e73b4039",
   "metadata": {},
   "source": [
    "# Method I"
   ]
  },
  {
   "cell_type": "code",
   "execution_count": 15,
   "id": "fe824784",
   "metadata": {},
   "outputs": [],
   "source": [
    "from statsmodels.stats.weightstats import ztest as ztest"
   ]
  },
  {
   "cell_type": "code",
   "execution_count": 12,
   "id": "07d76fa2",
   "metadata": {},
   "outputs": [],
   "source": [
    "mean1 = sum(cityA) / len(cityA)\n",
    "mean2 = sum(cityB) / len(cityB)\n",
    "std_dev1 = stats.tstd(cityA)\n",
    "std_dev2 = stats.tstd(cityB)"
   ]
  },
  {
   "cell_type": "code",
   "execution_count": 16,
   "id": "ba2f472d",
   "metadata": {},
   "outputs": [],
   "source": [
    "M1=np.mean(cityA)\n",
    "M2=np.mean(cityB)"
   ]
  },
  {
   "cell_type": "code",
   "execution_count": 17,
   "id": "7562f31c",
   "metadata": {},
   "outputs": [
    {
     "data": {
      "text/plain": [
       "100.65"
      ]
     },
     "execution_count": 17,
     "metadata": {},
     "output_type": "execute_result"
    }
   ],
   "source": [
    "M1"
   ]
  },
  {
   "cell_type": "code",
   "execution_count": 18,
   "id": "411f9bee",
   "metadata": {},
   "outputs": [
    {
     "data": {
      "text/plain": [
       "108.8"
      ]
     },
     "execution_count": 18,
     "metadata": {},
     "output_type": "execute_result"
    }
   ],
   "source": [
    "M2"
   ]
  },
  {
   "cell_type": "code",
   "execution_count": 14,
   "id": "94e47317",
   "metadata": {},
   "outputs": [
    {
     "data": {
      "text/plain": [
       "(-1.9953236073282115, 0.046007596761332065)"
      ]
     },
     "execution_count": 14,
     "metadata": {},
     "output_type": "execute_result"
    }
   ],
   "source": [
    "ztest(cityA, cityB, value=0) "
   ]
  },
  {
   "cell_type": "markdown",
   "id": "ca43d03e",
   "metadata": {},
   "source": [
    "# Method II"
   ]
  },
  {
   "cell_type": "code",
   "execution_count": 1,
   "id": "b7643c85",
   "metadata": {},
   "outputs": [],
   "source": [
    "import numpy as np\n",
    "import statsmodels.stats.weightstats as st"
   ]
  },
  {
   "cell_type": "code",
   "execution_count": 5,
   "id": "e8726827",
   "metadata": {},
   "outputs": [],
   "source": [
    "# Calculate mean and standard deviation for each group\n",
    "mean1, mean2 = np.mean(cityA), np.mean(cityB)"
   ]
  },
  {
   "cell_type": "code",
   "execution_count": 6,
   "id": "4ee9d723",
   "metadata": {},
   "outputs": [],
   "source": [
    "std1, std2 = np.std(cityA, ddof=1), np.std(cityB, ddof=1) \n",
    "# Use ddof=1 for sample standard deviation"
   ]
  },
  {
   "cell_type": "code",
   "execution_count": 7,
   "id": "0adf2aad",
   "metadata": {},
   "outputs": [],
   "source": [
    "z_score, p_value = st.ztest(cityA, cityB, value=0, alternative='two-sided', usevar='pooled')"
   ]
  },
  {
   "cell_type": "markdown",
   "id": "7b00f344",
   "metadata": {},
   "source": [
    "The z-statistic is a measure of how many standard deviations a data point is from the mean.\n",
    "\n",
    "In the context of a two-sample z-test, the z-statistic quantifies the difference between the sample means relative to the standard error of the difference.\n",
    "\n",
    "A positive z-statistic indicates that the first sample mean is higher than the second sample mean, while a negative z-statistic indicates the opposite."
   ]
  },
  {
   "cell_type": "code",
   "execution_count": 8,
   "id": "68d0039b",
   "metadata": {},
   "outputs": [
    {
     "data": {
      "text/plain": [
       "-1.9953236073282115"
      ]
     },
     "execution_count": 8,
     "metadata": {},
     "output_type": "execute_result"
    }
   ],
   "source": [
    "z_score"
   ]
  },
  {
   "cell_type": "markdown",
   "id": "87e76fd2",
   "metadata": {},
   "source": [
    "The p-value is the probability of observing the given sample data if the null hypothesis is true. It represents the evidence against the null hypothesis. A smaller p-value indicates stronger evidence against the null hypothesis."
   ]
  },
  {
   "cell_type": "code",
   "execution_count": 9,
   "id": "0f610d3c",
   "metadata": {},
   "outputs": [
    {
     "data": {
      "text/plain": [
       "0.046007596761332065"
      ]
     },
     "execution_count": 9,
     "metadata": {},
     "output_type": "execute_result"
    }
   ],
   "source": [
    "p_value"
   ]
  },
  {
   "cell_type": "code",
   "execution_count": 11,
   "id": "94c9fe27",
   "metadata": {},
   "outputs": [],
   "source": [
    "alpha = 0.05"
   ]
  },
  {
   "cell_type": "code",
   "execution_count": 12,
   "id": "b7e10ade",
   "metadata": {},
   "outputs": [
    {
     "name": "stdout",
     "output_type": "stream",
     "text": [
      "Reject null hypothesis\n"
     ]
    }
   ],
   "source": [
    "if p_value < alpha:\n",
    "    print(\"Reject null hypothesis\")\n",
    "else:\n",
    "    print(\"Fail to reject null hypothesis\")"
   ]
  },
  {
   "cell_type": "code",
   "execution_count": null,
   "id": "4c9b2faf",
   "metadata": {},
   "outputs": [],
   "source": []
  }
 ],
 "metadata": {
  "kernelspec": {
   "display_name": "Python 3 (ipykernel)",
   "language": "python",
   "name": "python3"
  },
  "language_info": {
   "codemirror_mode": {
    "name": "ipython",
    "version": 3
   },
   "file_extension": ".py",
   "mimetype": "text/x-python",
   "name": "python",
   "nbconvert_exporter": "python",
   "pygments_lexer": "ipython3",
   "version": "3.9.13"
  }
 },
 "nbformat": 4,
 "nbformat_minor": 5
}
