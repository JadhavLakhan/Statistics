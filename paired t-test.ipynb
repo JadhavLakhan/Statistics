{
 "cells": [
  {
   "cell_type": "code",
   "execution_count": 15,
   "id": "35afecb1",
   "metadata": {},
   "outputs": [],
   "source": [
    "Approach1=[1000,1500,1200,1800,1600,1100,1000,1250]"
   ]
  },
  {
   "cell_type": "code",
   "execution_count": 16,
   "id": "0cfa0211",
   "metadata": {},
   "outputs": [],
   "source": [
    "Approach2=[1500,1800,2000,1200,2000,1700,1800,1900]"
   ]
  },
  {
   "cell_type": "markdown",
   "id": "76216138",
   "metadata": {},
   "source": [
    "Null Hypothesis (H0): The null hypothesis of the paired t-test is that there is no difference between the means of the two related groups."
   ]
  },
  {
   "cell_type": "markdown",
   "id": "6ba308ce",
   "metadata": {},
   "source": [
    "Alternative Hypothesis (H1): The alternative hypothesis is that there is a significant difference between the means of the two related groups."
   ]
  },
  {
   "cell_type": "code",
   "execution_count": 17,
   "id": "e069d547",
   "metadata": {},
   "outputs": [],
   "source": [
    "from scipy import stats"
   ]
  },
  {
   "cell_type": "code",
   "execution_count": 18,
   "id": "8ccfae09",
   "metadata": {},
   "outputs": [],
   "source": [
    "t_statistic, p_value = stats.ttest_rel(Approach1, Approach2)"
   ]
  },
  {
   "cell_type": "markdown",
   "id": "d1dd7cdf",
   "metadata": {},
   "source": [
    "The t-statistic measures the size of the difference relative to the variation in the data. A larger absolute value of the t-statistic indicates a larger difference between the means of the two groups."
   ]
  },
  {
   "cell_type": "code",
   "execution_count": 19,
   "id": "5c9b69bd",
   "metadata": {},
   "outputs": [
    {
     "data": {
      "text/plain": [
       "-2.694290776450011"
      ]
     },
     "execution_count": 19,
     "metadata": {},
     "output_type": "execute_result"
    }
   ],
   "source": [
    "t_statistic"
   ]
  },
  {
   "cell_type": "markdown",
   "id": "6a5379ff",
   "metadata": {},
   "source": [
    "The p-value is the probability of observing the given sample data if the null hypothesis is true. \n",
    "It represents the evidence against the null hypothesis.\n",
    "A smaller p-value indicates stronger evidence against the null hypothesis."
   ]
  },
  {
   "cell_type": "code",
   "execution_count": 20,
   "id": "20417b5a",
   "metadata": {},
   "outputs": [
    {
     "data": {
      "text/plain": [
       "0.030893239532396383"
      ]
     },
     "execution_count": 20,
     "metadata": {},
     "output_type": "execute_result"
    }
   ],
   "source": [
    "p_value"
   ]
  },
  {
   "cell_type": "code",
   "execution_count": 21,
   "id": "288a74cd",
   "metadata": {},
   "outputs": [],
   "source": [
    "alpha=0.05 #Level of significance"
   ]
  },
  {
   "cell_type": "code",
   "execution_count": 22,
   "id": "84b9b375",
   "metadata": {},
   "outputs": [
    {
     "name": "stdout",
     "output_type": "stream",
     "text": [
      "Reject null hypothesis\n"
     ]
    }
   ],
   "source": [
    "if alpha<p_value:\n",
    "    print(\"Fail to reject null hypothesis\")\n",
    "else:\n",
    "    print(\"Reject null hypothesis\")"
   ]
  }
 ],
 "metadata": {
  "kernelspec": {
   "display_name": "Python 3 (ipykernel)",
   "language": "python",
   "name": "python3"
  },
  "language_info": {
   "codemirror_mode": {
    "name": "ipython",
    "version": 3
   },
   "file_extension": ".py",
   "mimetype": "text/x-python",
   "name": "python",
   "nbconvert_exporter": "python",
   "pygments_lexer": "ipython3",
   "version": "3.9.13"
  }
 },
 "nbformat": 4,
 "nbformat_minor": 5
}
